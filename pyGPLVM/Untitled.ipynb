{
 "cells": [
  {
   "cell_type": "code",
   "execution_count": 2,
   "metadata": {},
   "outputs": [],
   "source": [
    "import numpy as np\n",
    "import pylab\n",
    "from scipy.optimize import fmin, fmin_ncg, fmin_cg\n",
    "from scipy import linalg\n",
    "from sys import stdout \n",
    "import kernels "
   ]
  },
  {
   "cell_type": "code",
   "execution_count": 14,
   "metadata": {},
   "outputs": [],
   "source": [
    "class GP:\n",
    "    def __init__(self, X, Y, kernel=None, parameter_priors=None):\n",
    "        self.N = Y.shape[0]\n",
    "        self.setX(X)\n",
    "        self.setY(Y)\n",
    "\n",
    "        # kernel\n",
    "        if kernel == None:\n",
    "            self.kernel = kernels.RBF_full(-1, -np.ones(self.Xdim))\n",
    "        else:\n",
    "            self.kernel = kernel\n",
    "            \n",
    "        # parameter prior distribution\n",
    "        if parameter_priors == None:\n",
    "            self.parameter_prior_widths = np.ones(self.kernel.nparams + 1)\n",
    "        else:\n",
    "            assert parameter_priors.size == (self.kernel.nparams + 1)\n",
    "            self.parameter_prior_widths = np.array(parameter_priors).flatten()\n",
    "            \n",
    "        # hyper param\n",
    "        self.beta = 0.1\n",
    "        self.update()\n",
    "        self.n2ln2pi = 0.5 * self.Ydim * self.N * np.log(2 * np.pi)  # constant in the marginal. precompute for convenience.\n",
    "\n",
    "    def setX(self, newX):\n",
    "        self.X = newX.copy()\n",
    "        N, self.Xdim = newX.shape\n",
    "        assert N == self.N, \"bad shape\"\n",
    "        # normalize...\n",
    "        self.xmean = self.X.mean(0)\n",
    "        self.xstd = self.X.std(0)\n",
    "        self.X -= self.xmean\n",
    "        self.X /= self.xstd\n",
    "\n",
    "    def setY(self, newY):\n",
    "        self.Y = newY.copy()\n",
    "        N, self.Ydim = newY.shape\n",
    "        assert N == self.N, \"bad shape\"\n",
    "        # normalize...\n",
    "        self.ymean = self.Y.mean(0)\n",
    "        self.ystd = self.Y.std(0)\n",
    "        self.Y -= self.ymean\n",
    "        self.Y /= self.ystd\n",
    "\n",
    "    def hyper_prior(self):\n",
    "        \"\"\"\n",
    "        return the log of the current hyper paramters under their prior\n",
    "        \"\"\"\n",
    "        return -0.5 * np.dot(self.parameter_prior_widths, np.square(self.get_params()))\n",
    "\n",
    "    def hyper_prior_grad(self):\n",
    "        \"\"\"\n",
    "        return the gradient of the (log of the) hyper prior for the current parameters\n",
    "        \"\"\"\n",
    "        return -self.parameter_prior_widths * self.get_params()\n",
    "\n",
    "    def get_params(self):\n",
    "        \"\"\"\n",
    "        return the parameters of this GP: \n",
    "        that is the kernel parameters and the beta value\n",
    "        \"\"\"\n",
    "        return np.hstack((self.kernel.get_params(), np.log(self.beta)))\n",
    "\n",
    "    def set_params(self, params):\n",
    "        \"\"\"\n",
    "        set the kernel parameters and the noise parameter beta\n",
    "        \"\"\"\n",
    "        assert params.size == self.kernel.nparams + 1\n",
    "        self.beta = np.exp(params[-1])\n",
    "        self.kernel.set_params(params[:-1])\n",
    "\n",
    "    def ll(self, params=None):\n",
    "        \"\"\"  \n",
    "        A cost function to optimise for setting the kernel parameters. \n",
    "        Uses current parameter values if none are passed \n",
    "        \"\"\"\n",
    "        if not params == None:\n",
    "            self.set_params(params)\n",
    "        try:\n",
    "            self.update()\n",
    "        except:\n",
    "            return np.inf\n",
    "        return -self.marginal() - self.hyper_prior()\n",
    "\n",
    "    def ll_grad(self, params=None):\n",
    "        \"\"\" \n",
    "        the gradient of the ll function, for use with conjugate gradient optimisation. \n",
    "        uses current values of parameters if none are passed \n",
    "        \"\"\"\n",
    "        if not params == None:\n",
    "            self.set_params(params)\n",
    "        try:\n",
    "            self.update()\n",
    "        except:\n",
    "            return np.ones(params.shape) * np.NaN\n",
    "        self.update_grad()\n",
    "        matrix_grads = [e for e in self.kernel.gradients(self.X)]\n",
    "        matrix_grads.append(\n",
    "            -np.eye(self.K.shape[0]) / self.beta\n",
    "        )  # noise gradient matrix\n",
    "\n",
    "        grads = [0.5 * np.trace(np.dot(self.alphalphK, e)) for e in matrix_grads]\n",
    "\n",
    "        return -np.array(grads) - self.hyper_prior_grad()\n",
    "\n",
    "    def find_kernel_params(self, iters=1000):\n",
    "        \"\"\"Optimise the marginal likelihood. work with the log of beta - fmin works better that way.  \"\"\"\n",
    "        # new_params = fmin(self.ll,np.hstack((self.kernel.get_params(), np.log(self.beta))),maxiter=iters)\n",
    "        new_params = fmin_cg(\n",
    "            self.ll,\n",
    "            np.hstack((self.kernel.get_params(), np.log(self.beta))),\n",
    "            fprime=self.ll_grad,\n",
    "            maxiter=iters,\n",
    "        )\n",
    "        final_ll = self.ll(new_params)  # sets variables - required!\n",
    "\n",
    "    def update(self):\n",
    "        \"\"\"do the Cholesky decomposition as required to make predictions and calculate the marginal likelihood\"\"\"\n",
    "        self.K = self.kernel(self.X, self.X)\n",
    "        self.K += np.eye(self.K.shape[0]) / self.beta\n",
    "        self.L = np.linalg.cholesky(self.K)\n",
    "        self.A = linalg.cho_solve((self.L, 1), self.Y)\n",
    "\n",
    "    def update_grad(self):\n",
    "        \"\"\"do the matrix manipulation required in order to calculate gradients\"\"\"\n",
    "        self.Kinv = np.linalg.solve(\n",
    "            self.L.T, np.linalg.solve(self.L, np.eye(self.L.shape[0]))\n",
    "        )\n",
    "        self.alphalphK = np.dot(self.A, self.A.T) - self.Ydim * self.Kinv\n",
    "\n",
    "    def marginal(self):\n",
    "        \"\"\"The Marginal Likelihood. Useful for optimising Kernel parameters\"\"\"\n",
    "        return (\n",
    "            -self.Ydim * np.sum(np.log(np.diag(self.L)))\n",
    "            - 0.5 * np.trace(np.dot(self.Y.T, self.A))\n",
    "            - self.n2ln2pi\n",
    "        )\n",
    "\n",
    "    def predict(self, x_star):\n",
    "        \"\"\"Make a prediction upon new data points\"\"\"\n",
    "        x_star = (np.asarray(x_star) - self.xmean) / self.xstd\n",
    "\n",
    "        # Kernel matrix k(X_*,X)\n",
    "        k_x_star_x = self.kernel(x_star, self.X)\n",
    "        k_x_star_x_star = self.kernel(x_star, x_star)\n",
    "\n",
    "        # find the means and covs of the projection...\n",
    "        # means = np.dot(np.dot(k_x_star_x, self.K_inv), self.Y)\n",
    "        means = np.dot(k_x_star_x, self.A)\n",
    "        means *= self.ystd\n",
    "        means += self.ymean\n",
    "\n",
    "        v = np.linalg.solve(self.L, k_x_star_x.T)\n",
    "        # covs = np.diag( k_x_star_x_star - np.dot(np.dot(k_x_star_x,self.K_inv),k_x_star_x.T)).reshape(x_star.shape[0],1) + self.beta\n",
    "        variances = (\n",
    "            np.diag(k_x_star_x_star - np.dot(v.T, v)).reshape(x_star.shape[0], 1)\n",
    "            + 1.0 / self.beta\n",
    "        ) * self.ystd.reshape(1, self.Ydim)\n",
    "        \n",
    "        return means, variances\n",
    "\n"
   ]
  },
  {
   "cell_type": "code",
   "execution_count": null,
   "metadata": {},
   "outputs": [],
   "source": []
  },
  {
   "cell_type": "code",
   "execution_count": 15,
   "metadata": {},
   "outputs": [],
   "source": [
    "# generate data:\n",
    "Ndata = 50\n",
    "X = np.linspace(-3, 3, Ndata).reshape(Ndata, 1)\n",
    "Y = np.sin(X) + np.random.standard_normal(X.shape) / 20"
   ]
  },
  {
   "cell_type": "code",
   "execution_count": 16,
   "metadata": {},
   "outputs": [
    {
     "name": "stdout",
     "output_type": "stream",
     "text": [
      "X : (50, 1)\n",
      "Y : (50, 1)\n"
     ]
    }
   ],
   "source": [
    "print(\"X :\", X.shape)\n",
    "print(\"Y :\", Y.shape)"
   ]
  },
  {
   "cell_type": "code",
   "execution_count": 17,
   "metadata": {},
   "outputs": [],
   "source": [
    "# create GP object\n",
    "myGP = GP(X, Y)  # ,kernels.linear(-1,-1))"
   ]
  },
  {
   "cell_type": "code",
   "execution_count": 18,
   "metadata": {},
   "outputs": [
    {
     "data": {
      "text/plain": [
       "(200, 1)"
      ]
     },
     "execution_count": 18,
     "metadata": {},
     "output_type": "execute_result"
    }
   ],
   "source": [
    "# stuff for plotting\n",
    "xx = np.linspace(-4, 4, 200).reshape(200, 1)\n",
    "xx.shape"
   ]
  },
  {
   "cell_type": "code",
   "execution_count": 19,
   "metadata": {},
   "outputs": [
    {
     "data": {
      "image/png": "[encoded data removed]",
      "text/plain": [
       "<Figure size 432x288 with 1 Axes>"
      ]
     },
     "metadata": {
      "needs_background": "light"
     },
     "output_type": "display_data"
    }
   ],
   "source": [
    "def plot():\n",
    "    pylab.figure()\n",
    "    \n",
    "    # plot actual function\n",
    "    pylab.plot(X, Y, \"r.\")\n",
    "    \n",
    "    # yy: mean, cc: var\n",
    "    yy, cc = myGP.predict(xx)\n",
    "    \n",
    "    # plot predicted function\n",
    "    pylab.plot(xx, yy, scaley=False)\n",
    "    pylab.plot(xx, yy + 2 * np.sqrt(cc), \"k--\", scaley=False)\n",
    "    pylab.plot(xx, yy - 2 * np.sqrt(cc), \"k--\", scaley=False)\n",
    "\n",
    "plot()"
   ]
  },
  {
   "cell_type": "code",
   "execution_count": 26,
   "metadata": {},
   "outputs": [
    {
     "data": {
      "text/plain": [
       "array([-1., -1.])"
      ]
     },
     "execution_count": 26,
     "metadata": {},
     "output_type": "execute_result"
    }
   ],
   "source": [
    "myGP.kernel.get_params()"
   ]
  },
  {
   "cell_type": "code",
   "execution_count": 28,
   "metadata": {},
   "outputs": [
    {
     "data": {
      "text/plain": [
       "-2.3025850929940455"
      ]
     },
     "execution_count": 28,
     "metadata": {},
     "output_type": "execute_result"
    }
   ],
   "source": [
    "np.log(myGP.beta)"
   ]
  },
  {
   "cell_type": "code",
   "execution_count": 29,
   "metadata": {},
   "outputs": [
    {
     "data": {
      "text/plain": [
       "array([-1.        , -1.        , -2.30258509])"
      ]
     },
     "execution_count": 29,
     "metadata": {},
     "output_type": "execute_result"
    }
   ],
   "source": [
    "np.hstack((myGP.kernel.get_params(), np.log(myGP.beta)))"
   ]
  },
  {
   "cell_type": "code",
   "execution_count": null,
   "metadata": {},
   "outputs": [],
   "source": []
  },
  {
   "cell_type": "code",
   "execution_count": 20,
   "metadata": {},
   "outputs": [
    {
     "ename": "ValueError",
     "evalue": "The truth value of an array with more than one element is ambiguous. Use a.any() or a.all()",
     "output_type": "error",
     "traceback": [
      "\u001b[0;31m---------------------------------------------------------------------------\u001b[0m",
      "\u001b[0;31mValueError\u001b[0m                                Traceback (most recent call last)",
      "\u001b[0;32m<ipython-input-20-da9c46c24a52>\u001b[0m in \u001b[0;36m<module>\u001b[0;34m\u001b[0m\n\u001b[1;32m      1\u001b[0m \u001b[0;34m\u001b[0m\u001b[0m\n\u001b[0;32m----> 2\u001b[0;31m \u001b[0mmyGP\u001b[0m\u001b[0;34m.\u001b[0m\u001b[0mfind_kernel_params\u001b[0m\u001b[0;34m(\u001b[0m\u001b[0;34m)\u001b[0m\u001b[0;34m\u001b[0m\u001b[0;34m\u001b[0m\u001b[0m\n\u001b[0m\u001b[1;32m      3\u001b[0m \u001b[0mplot\u001b[0m\u001b[0;34m(\u001b[0m\u001b[0;34m)\u001b[0m\u001b[0;34m\u001b[0m\u001b[0;34m\u001b[0m\u001b[0m\n\u001b[1;32m      4\u001b[0m \u001b[0;34m\u001b[0m\u001b[0m\n\u001b[1;32m      5\u001b[0m \u001b[0mpylab\u001b[0m\u001b[0;34m.\u001b[0m\u001b[0mshow\u001b[0m\u001b[0;34m(\u001b[0m\u001b[0;34m)\u001b[0m\u001b[0;34m\u001b[0m\u001b[0;34m\u001b[0m\u001b[0m\n",
      "\u001b[0;32m<ipython-input-14-ed436487b77a>\u001b[0m in \u001b[0;36mfind_kernel_params\u001b[0;34m(self, iters)\u001b[0m\n\u001b[1;32m     93\u001b[0m             \u001b[0mnp\u001b[0m\u001b[0;34m.\u001b[0m\u001b[0mhstack\u001b[0m\u001b[0;34m(\u001b[0m\u001b[0;34m(\u001b[0m\u001b[0mself\u001b[0m\u001b[0;34m.\u001b[0m\u001b[0mkernel\u001b[0m\u001b[0;34m.\u001b[0m\u001b[0mget_params\u001b[0m\u001b[0;34m(\u001b[0m\u001b[0;34m)\u001b[0m\u001b[0;34m,\u001b[0m \u001b[0mnp\u001b[0m\u001b[0;34m.\u001b[0m\u001b[0mlog\u001b[0m\u001b[0;34m(\u001b[0m\u001b[0mself\u001b[0m\u001b[0;34m.\u001b[0m\u001b[0mbeta\u001b[0m\u001b[0;34m)\u001b[0m\u001b[0;34m)\u001b[0m\u001b[0;34m)\u001b[0m\u001b[0;34m,\u001b[0m\u001b[0;34m\u001b[0m\u001b[0;34m\u001b[0m\u001b[0m\n\u001b[1;32m     94\u001b[0m             \u001b[0mfprime\u001b[0m\u001b[0;34m=\u001b[0m\u001b[0mself\u001b[0m\u001b[0;34m.\u001b[0m\u001b[0mll_grad\u001b[0m\u001b[0;34m,\u001b[0m\u001b[0;34m\u001b[0m\u001b[0;34m\u001b[0m\u001b[0m\n\u001b[0;32m---> 95\u001b[0;31m             \u001b[0mmaxiter\u001b[0m\u001b[0;34m=\u001b[0m\u001b[0miters\u001b[0m\u001b[0;34m,\u001b[0m\u001b[0;34m\u001b[0m\u001b[0;34m\u001b[0m\u001b[0m\n\u001b[0m\u001b[1;32m     96\u001b[0m         )\n\u001b[1;32m     97\u001b[0m         \u001b[0mfinal_ll\u001b[0m \u001b[0;34m=\u001b[0m \u001b[0mself\u001b[0m\u001b[0;34m.\u001b[0m\u001b[0mll\u001b[0m\u001b[0;34m(\u001b[0m\u001b[0mnew_params\u001b[0m\u001b[0;34m)\u001b[0m  \u001b[0;31m# sets variables - required!\u001b[0m\u001b[0;34m\u001b[0m\u001b[0;34m\u001b[0m\u001b[0m\n",
      "\u001b[0;32m/usr/local/lib/python3.7/site-packages/scipy/optimize/optimize.py\u001b[0m in \u001b[0;36mfmin_cg\u001b[0;34m(f, x0, fprime, args, gtol, norm, epsilon, maxiter, full_output, disp, retall, callback)\u001b[0m\n\u001b[1;32m   1219\u001b[0m             'return_all': retall}\n\u001b[1;32m   1220\u001b[0m \u001b[0;34m\u001b[0m\u001b[0m\n\u001b[0;32m-> 1221\u001b[0;31m     \u001b[0mres\u001b[0m \u001b[0;34m=\u001b[0m \u001b[0m_minimize_cg\u001b[0m\u001b[0;34m(\u001b[0m\u001b[0mf\u001b[0m\u001b[0;34m,\u001b[0m \u001b[0mx0\u001b[0m\u001b[0;34m,\u001b[0m \u001b[0margs\u001b[0m\u001b[0;34m,\u001b[0m \u001b[0mfprime\u001b[0m\u001b[0;34m,\u001b[0m \u001b[0mcallback\u001b[0m\u001b[0;34m=\u001b[0m\u001b[0mcallback\u001b[0m\u001b[0;34m,\u001b[0m \u001b[0;34m**\u001b[0m\u001b[0mopts\u001b[0m\u001b[0;34m)\u001b[0m\u001b[0;34m\u001b[0m\u001b[0;34m\u001b[0m\u001b[0m\n\u001b[0m\u001b[1;32m   1222\u001b[0m \u001b[0;34m\u001b[0m\u001b[0m\n\u001b[1;32m   1223\u001b[0m     \u001b[0;32mif\u001b[0m \u001b[0mfull_output\u001b[0m\u001b[0;34m:\u001b[0m\u001b[0;34m\u001b[0m\u001b[0;34m\u001b[0m\u001b[0m\n",
      "\u001b[0;32m/usr/local/lib/python3.7/site-packages/scipy/optimize/optimize.py\u001b[0m in \u001b[0;36m_minimize_cg\u001b[0;34m(fun, x0, args, jac, callback, gtol, norm, eps, maxiter, disp, return_all, **unknown_options)\u001b[0m\n\u001b[1;32m   1270\u001b[0m     \u001b[0;32melse\u001b[0m\u001b[0;34m:\u001b[0m\u001b[0;34m\u001b[0m\u001b[0;34m\u001b[0m\u001b[0m\n\u001b[1;32m   1271\u001b[0m         \u001b[0mgrad_calls\u001b[0m\u001b[0;34m,\u001b[0m \u001b[0mmyfprime\u001b[0m \u001b[0;34m=\u001b[0m \u001b[0mwrap_function\u001b[0m\u001b[0;34m(\u001b[0m\u001b[0mfprime\u001b[0m\u001b[0;34m,\u001b[0m \u001b[0margs\u001b[0m\u001b[0;34m)\u001b[0m\u001b[0;34m\u001b[0m\u001b[0;34m\u001b[0m\u001b[0m\n\u001b[0;32m-> 1272\u001b[0;31m     \u001b[0mgfk\u001b[0m \u001b[0;34m=\u001b[0m \u001b[0mmyfprime\u001b[0m\u001b[0;34m(\u001b[0m\u001b[0mx0\u001b[0m\u001b[0;34m)\u001b[0m\u001b[0;34m\u001b[0m\u001b[0;34m\u001b[0m\u001b[0m\n\u001b[0m\u001b[1;32m   1273\u001b[0m     \u001b[0mk\u001b[0m \u001b[0;34m=\u001b[0m \u001b[0;36m0\u001b[0m\u001b[0;34m\u001b[0m\u001b[0;34m\u001b[0m\u001b[0m\n\u001b[1;32m   1274\u001b[0m     \u001b[0mxk\u001b[0m \u001b[0;34m=\u001b[0m \u001b[0mx0\u001b[0m\u001b[0;34m\u001b[0m\u001b[0;34m\u001b[0m\u001b[0m\n",
      "\u001b[0;32m/usr/local/lib/python3.7/site-packages/scipy/optimize/optimize.py\u001b[0m in \u001b[0;36mfunction_wrapper\u001b[0;34m(*wrapper_args)\u001b[0m\n\u001b[1;32m    298\u001b[0m     \u001b[0;32mdef\u001b[0m \u001b[0mfunction_wrapper\u001b[0m\u001b[0;34m(\u001b[0m\u001b[0;34m*\u001b[0m\u001b[0mwrapper_args\u001b[0m\u001b[0;34m)\u001b[0m\u001b[0;34m:\u001b[0m\u001b[0;34m\u001b[0m\u001b[0;34m\u001b[0m\u001b[0m\n\u001b[1;32m    299\u001b[0m         \u001b[0mncalls\u001b[0m\u001b[0;34m[\u001b[0m\u001b[0;36m0\u001b[0m\u001b[0;34m]\u001b[0m \u001b[0;34m+=\u001b[0m \u001b[0;36m1\u001b[0m\u001b[0;34m\u001b[0m\u001b[0;34m\u001b[0m\u001b[0m\n\u001b[0;32m--> 300\u001b[0;31m         \u001b[0;32mreturn\u001b[0m \u001b[0mfunction\u001b[0m\u001b[0;34m(\u001b[0m\u001b[0;34m*\u001b[0m\u001b[0;34m(\u001b[0m\u001b[0mwrapper_args\u001b[0m \u001b[0;34m+\u001b[0m \u001b[0margs\u001b[0m\u001b[0;34m)\u001b[0m\u001b[0;34m)\u001b[0m\u001b[0;34m\u001b[0m\u001b[0;34m\u001b[0m\u001b[0m\n\u001b[0m\u001b[1;32m    301\u001b[0m \u001b[0;34m\u001b[0m\u001b[0m\n\u001b[1;32m    302\u001b[0m     \u001b[0;32mreturn\u001b[0m \u001b[0mncalls\u001b[0m\u001b[0;34m,\u001b[0m \u001b[0mfunction_wrapper\u001b[0m\u001b[0;34m\u001b[0m\u001b[0;34m\u001b[0m\u001b[0m\n",
      "\u001b[0;32m<ipython-input-14-ed436487b77a>\u001b[0m in \u001b[0;36mll_grad\u001b[0;34m(self, params)\u001b[0m\n\u001b[1;32m     70\u001b[0m     \u001b[0;32mdef\u001b[0m \u001b[0mll_grad\u001b[0m\u001b[0;34m(\u001b[0m\u001b[0mself\u001b[0m\u001b[0;34m,\u001b[0m \u001b[0mparams\u001b[0m\u001b[0;34m=\u001b[0m\u001b[0;32mNone\u001b[0m\u001b[0;34m)\u001b[0m\u001b[0;34m:\u001b[0m\u001b[0;34m\u001b[0m\u001b[0;34m\u001b[0m\u001b[0m\n\u001b[1;32m     71\u001b[0m         \u001b[0;34m\"\"\" the gradient of the ll function, for use with conjugate gradient optimisation. uses current values of parameters if none are passed \"\"\"\u001b[0m\u001b[0;34m\u001b[0m\u001b[0;34m\u001b[0m\u001b[0m\n\u001b[0;32m---> 72\u001b[0;31m         \u001b[0;32mif\u001b[0m \u001b[0;32mnot\u001b[0m \u001b[0mparams\u001b[0m \u001b[0;34m==\u001b[0m \u001b[0;32mNone\u001b[0m\u001b[0;34m:\u001b[0m\u001b[0;34m\u001b[0m\u001b[0;34m\u001b[0m\u001b[0m\n\u001b[0m\u001b[1;32m     73\u001b[0m             \u001b[0mself\u001b[0m\u001b[0;34m.\u001b[0m\u001b[0mset_params\u001b[0m\u001b[0;34m(\u001b[0m\u001b[0mparams\u001b[0m\u001b[0;34m)\u001b[0m\u001b[0;34m\u001b[0m\u001b[0;34m\u001b[0m\u001b[0m\n\u001b[1;32m     74\u001b[0m         \u001b[0;32mtry\u001b[0m\u001b[0;34m:\u001b[0m\u001b[0;34m\u001b[0m\u001b[0;34m\u001b[0m\u001b[0m\n",
      "\u001b[0;31mValueError\u001b[0m: The truth value of an array with more than one element is ambiguous. Use a.any() or a.all()"
     ]
    }
   ],
   "source": [
    "\n",
    "my1GP.find_kernel_params()\n",
    "plot()\n",
    "\n",
    "pylab.show()\n"
   ]
  },
  {
   "cell_type": "code",
   "execution_count": null,
   "metadata": {},
   "outputs": [],
   "source": []
  },
  {
   "cell_type": "code",
   "execution_count": null,
   "metadata": {},
   "outputs": [],
   "source": []
  },
  {
   "cell_type": "code",
   "execution_count": null,
   "metadata": {},
   "outputs": [],
   "source": []
  },
  {
   "cell_type": "code",
   "execution_count": null,
   "metadata": {},
   "outputs": [],
   "source": []
  }
 ],
 "metadata": {
  "kernelspec": {
   "display_name": "Python 3",
   "language": "python",
   "name": "python3"
  },
  "language_info": {
   "codemirror_mode": {
    "name": "ipython",
    "version": 3
   },
   "file_extension": ".py",
   "mimetype": "text/x-python",
   "name": "python",
   "nbconvert_exporter": "python",
   "pygments_lexer": "ipython3",
   "version": "3.7.4"
  }
 },
 "nbformat": 4,
 "nbformat_minor": 2
}
